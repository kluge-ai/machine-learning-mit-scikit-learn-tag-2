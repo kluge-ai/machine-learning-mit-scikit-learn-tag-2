{
 "cells": [
  {
   "cell_type": "markdown",
   "id": "c1984c7191bf60e3",
   "metadata": {
    "collapsed": false
   },
   "source": [
    "# Feature Selection und Grid Search"
   ]
  },
  {
   "cell_type": "markdown",
   "id": "3f6653ebeca5020d",
   "metadata": {
    "collapsed": false
   },
   "source": [
    "## Datensatz erzeugen"
   ]
  },
  {
   "cell_type": "code",
   "execution_count": null,
   "id": "6ab305569b6d8f5b",
   "metadata": {
    "ExecuteTime": {
     "end_time": "2023-11-28T20:07:29.652974975Z",
     "start_time": "2023-11-28T20:07:28.853787952Z"
    }
   },
   "outputs": [],
   "source": [
    "from sklearn import datasets"
   ]
  },
  {
   "cell_type": "code",
   "execution_count": null,
   "id": "8d2b4f13bfb7fd14",
   "metadata": {
    "ExecuteTime": {
     "end_time": "2023-11-28T20:23:23.602041293Z",
     "start_time": "2023-11-28T20:23:23.541152713Z"
    }
   },
   "outputs": [],
   "source": [
    "x, y = datasets.make_classification(n_samples=1000, n_features=10, n_redundant=2, n_informative=7, random_state=55)"
   ]
  },
  {
   "cell_type": "code",
   "execution_count": null,
   "id": "5122053b76567665",
   "metadata": {
    "ExecuteTime": {
     "end_time": "2023-11-28T20:23:24.414419180Z",
     "start_time": "2023-11-28T20:23:24.368687321Z"
    }
   },
   "outputs": [],
   "source": [
    "from sklearn.model_selection import train_test_split"
   ]
  },
  {
   "cell_type": "code",
   "execution_count": null,
   "id": "ff17f41aef4f2b2e",
   "metadata": {
    "ExecuteTime": {
     "end_time": "2023-11-28T20:23:24.842907606Z",
     "start_time": "2023-11-28T20:23:24.778536606Z"
    }
   },
   "outputs": [],
   "source": [
    "x_train, x_test, y_train, y_test = train_test_split(x, y, stratify=y)"
   ]
  },
  {
   "cell_type": "markdown",
   "id": "a6f82129b1ece934",
   "metadata": {
    "collapsed": false
   },
   "source": [
    "## Feature-Selektion auf Grundlage eines Modells"
   ]
  },
  {
   "cell_type": "code",
   "execution_count": null,
   "id": "2a266764d206f575",
   "metadata": {
    "ExecuteTime": {
     "end_time": "2023-11-28T20:23:25.273746047Z",
     "start_time": "2023-11-28T20:23:25.216659691Z"
    }
   },
   "outputs": [],
   "source": []
  },
  {
   "cell_type": "code",
   "execution_count": null,
   "id": "96219badefe3a0fc",
   "metadata": {},
   "outputs": [],
   "source": []
  },
  {
   "cell_type": "markdown",
   "id": "7b9a049d421a110",
   "metadata": {
    "collapsed": false
   },
   "source": [
    "## Exkurs: Feature Importance in Random Forests"
   ]
  },
  {
   "cell_type": "code",
   "execution_count": null,
   "id": "e3de08b327c92615",
   "metadata": {
    "ExecuteTime": {
     "end_time": "2023-11-28T20:23:28.188138647Z",
     "start_time": "2023-11-28T20:23:28.143092559Z"
    }
   },
   "outputs": [],
   "source": []
  },
  {
   "cell_type": "markdown",
   "id": "d183eb3875d30a76",
   "metadata": {
    "collapsed": false
   },
   "source": [
    "## Sequentielle Feature-Selektion"
   ]
  },
  {
   "cell_type": "code",
   "execution_count": null,
   "id": "15c021437da7b895",
   "metadata": {
    "ExecuteTime": {
     "end_time": "2023-11-28T20:23:28.729231852Z",
     "start_time": "2023-11-28T20:23:28.680266347Z"
    }
   },
   "outputs": [],
   "source": []
  },
  {
   "cell_type": "markdown",
   "id": "7d565d6c8edb0a4a",
   "metadata": {
    "collapsed": false
   },
   "source": [
    "**Aufgabe:** Trainiere ein Modell auf den selektierten Features und vergleiches es mit einem Modell, das auf dem vollen Datensatz trainiert wurde."
   ]
  },
  {
   "cell_type": "code",
   "execution_count": null,
   "id": "fcc3532ace92f6e6",
   "metadata": {
    "ExecuteTime": {
     "end_time": "2023-11-28T21:11:20.829946260Z",
     "start_time": "2023-11-28T21:11:20.829658792Z"
    }
   },
   "outputs": [],
   "source": []
  },
  {
   "cell_type": "markdown",
   "id": "48ba6d7619950a85",
   "metadata": {
    "collapsed": false
   },
   "source": [
    "**Aufgabe:** Wiederhole die sequentielle Feature-Selektion, aber mit `direction=\"backward\"`."
   ]
  },
  {
   "cell_type": "code",
   "execution_count": null,
   "id": "31d5b4faa3cc8ac8",
   "metadata": {
    "ExecuteTime": {
     "end_time": "2023-11-28T21:11:20.830167587Z",
     "start_time": "2023-11-28T21:11:20.829806088Z"
    }
   },
   "outputs": [],
   "source": []
  },
  {
   "cell_type": "markdown",
   "id": "cd8da39e5623d2b0",
   "metadata": {
    "collapsed": false
   },
   "source": [
    "**Aufgabe:** Vergleiche jeweils die von den drei Selektions-Verfahren ausgewählten Features. Welche Features sind redundant? Welche Features sind redundant?"
   ]
  },
  {
   "cell_type": "code",
   "execution_count": null,
   "id": "5a70b538298b5ca8",
   "metadata": {
    "ExecuteTime": {
     "end_time": "2023-11-28T21:11:20.954411092Z",
     "start_time": "2023-11-28T21:11:20.949044267Z"
    }
   },
   "outputs": [],
   "source": []
  },
  {
   "cell_type": "markdown",
   "id": "c773bbb5510b5b4",
   "metadata": {
    "collapsed": false
   },
   "source": [
    "## Grid Search"
   ]
  },
  {
   "cell_type": "code",
   "execution_count": null,
   "id": "6f905a45a2db2e0f",
   "metadata": {
    "ExecuteTime": {
     "end_time": "2023-11-28T21:11:21.740836771Z",
     "start_time": "2023-11-28T21:11:21.708284797Z"
    }
   },
   "outputs": [],
   "source": [
    "parameters = {\"n_estimators\": [3, 9, 18], \"max_depth\": [4, 8, 16]}"
   ]
  },
  {
   "cell_type": "markdown",
   "id": "beda7b15f6239f19",
   "metadata": {
    "collapsed": false
   },
   "source": [
    "**Aufgabe:** Trainiere für jede Parameter-Kombination ein Modell auf dem im vorherigen Abschnitt ermittelten optimalen Feature-Set und speichere den Score in einem Dictionary. Welche Kombination ergibt das beste Ergebnis?"
   ]
  },
  {
   "cell_type": "code",
   "execution_count": null,
   "id": "aa4aebbab3c3a666",
   "metadata": {
    "ExecuteTime": {
     "end_time": "2023-11-28T21:11:33.345978909Z",
     "start_time": "2023-11-28T21:11:33.322810064Z"
    }
   },
   "outputs": [],
   "source": []
  },
  {
   "cell_type": "markdown",
   "id": "7a93e0a443bdf546",
   "metadata": {
    "collapsed": false
   },
   "source": [
    "**Aufgabe:** Welcher Parameterbereich sollte näher untersucht werden?"
   ]
  },
  {
   "cell_type": "code",
   "execution_count": null,
   "id": "87c201a4609a1d60",
   "metadata": {
    "ExecuteTime": {
     "end_time": "2023-11-28T21:08:38.787073109Z",
     "start_time": "2023-11-28T21:08:38.732687472Z"
    }
   },
   "outputs": [],
   "source": []
  }
 ],
 "metadata": {
  "kernelspec": {
   "display_name": "Python 3",
   "language": "python",
   "name": "python3"
  },
  "language_info": {
   "codemirror_mode": {
    "name": "ipython",
    "version": 2
   },
   "file_extension": ".py",
   "mimetype": "text/x-python",
   "name": "python",
   "nbconvert_exporter": "python",
   "pygments_lexer": "ipython2",
   "version": "2.7.6"
  }
 },
 "nbformat": 4,
 "nbformat_minor": 5
}
