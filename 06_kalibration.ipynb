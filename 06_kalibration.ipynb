{
 "cells": [
  {
   "cell_type": "markdown",
   "id": "b3af09ec2d697a03",
   "metadata": {
    "collapsed": false
   },
   "source": [
    "# Kalibration von Klassifikatoren\n",
    "\n",
    "## Beispiel-Datensatz erstellen"
   ]
  },
  {
   "cell_type": "code",
   "execution_count": null,
   "id": "9be7312bc99872f0",
   "metadata": {
    "ExecuteTime": {
     "end_time": "2023-11-28T12:08:26.457628721Z",
     "start_time": "2023-11-28T12:08:25.781795113Z"
    }
   },
   "outputs": [],
   "source": [
    "from sklearn.datasets import make_classification\n",
    "from sklearn.model_selection import train_test_split\n",
    "\n",
    "x, y = make_classification(\n",
    "    n_samples=100_000, n_features=20, n_informative=2, n_redundant=2, random_state=42\n",
    ")\n",
    "\n",
    "train_samples = 50\n",
    "x_train, x_test, y_train, y_test = train_test_split(\n",
    "    x,\n",
    "    y,\n",
    "    shuffle=False,\n",
    "    test_size=100_000 - train_samples,\n",
    ")"
   ]
  },
  {
   "cell_type": "markdown",
   "id": "9b9773f154da83a",
   "metadata": {
    "collapsed": false
   },
   "source": [
    "## Zwei Modelle trainieren"
   ]
  },
  {
   "cell_type": "markdown",
   "id": "10f2f60fac516407",
   "metadata": {
    "collapsed": false
   },
   "source": [
    "**Aufgabe:** Trainiere einen `RandomForestClassifier` und eine `LogisticRegression`."
   ]
  },
  {
   "cell_type": "code",
   "execution_count": null,
   "id": "3cfd5f01069c769f",
   "metadata": {
    "ExecuteTime": {
     "end_time": "2023-11-28T12:08:26.509953953Z",
     "start_time": "2023-11-28T12:08:26.459506895Z"
    }
   },
   "outputs": [],
   "source": [
    "from sklearn.ensemble import RandomForestClassifier\n",
    "\n",
    "rf = RandomForestClassifier(...)"
   ]
  },
  {
   "cell_type": "code",
   "execution_count": null,
   "id": "fcdae68569a02a14",
   "metadata": {
    "ExecuteTime": {
     "end_time": "2023-11-28T12:08:26.527649105Z",
     "start_time": "2023-11-28T12:08:26.513056657Z"
    }
   },
   "outputs": [],
   "source": [
    "from sklearn.linear_model import LogisticRegression\n",
    "\n",
    "lr = LogisticRegression(...)"
   ]
  },
  {
   "cell_type": "markdown",
   "id": "b8ca47ea64a51c6c",
   "metadata": {
    "collapsed": false
   },
   "source": [
    "## Kalibration untersuchen"
   ]
  },
  {
   "cell_type": "code",
   "execution_count": null,
   "id": "4e0033bbd54a0c34",
   "metadata": {
    "ExecuteTime": {
     "end_time": "2023-11-28T12:08:26.529703350Z",
     "start_time": "2023-11-28T12:08:26.518688945Z"
    }
   },
   "outputs": [],
   "source": []
  },
  {
   "cell_type": "markdown",
   "id": "d6094001c18bcdbc",
   "metadata": {
    "collapsed": false
   },
   "source": [
    "## Klassifikatoren kalibrieren"
   ]
  },
  {
   "cell_type": "code",
   "execution_count": null,
   "id": "17100ab07d092e33",
   "metadata": {
    "ExecuteTime": {
     "end_time": "2023-11-28T12:08:26.566951295Z",
     "start_time": "2023-11-28T12:08:26.565723274Z"
    }
   },
   "outputs": [],
   "source": []
  }
 ],
 "metadata": {
  "kernelspec": {
   "display_name": "Python 3",
   "language": "python",
   "name": "python3"
  },
  "language_info": {
   "codemirror_mode": {
    "name": "ipython",
    "version": 2
   },
   "file_extension": ".py",
   "mimetype": "text/x-python",
   "name": "python",
   "nbconvert_exporter": "python",
   "pygments_lexer": "ipython2",
   "version": "2.7.6"
  }
 },
 "nbformat": 4,
 "nbformat_minor": 5
}
