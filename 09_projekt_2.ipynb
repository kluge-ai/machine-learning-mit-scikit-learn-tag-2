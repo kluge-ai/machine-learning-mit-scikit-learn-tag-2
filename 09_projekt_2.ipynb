{
 "cells": [
  {
   "cell_type": "markdown",
   "id": "ba7c71b0a0449f22",
   "metadata": {
    "collapsed": false
   },
   "source": [
    "# Projekt 2: Klassifikation mit kategorischen Daten"
   ]
  },
  {
   "cell_type": "code",
   "execution_count": null,
   "id": "initial_id",
   "metadata": {
    "ExecuteTime": {
     "end_time": "2023-11-28T12:23:26.724862299Z",
     "start_time": "2023-11-28T12:23:26.592040788Z"
    }
   },
   "outputs": [],
   "source": [
    "from sklearn.datasets import fetch_openml"
   ]
  },
  {
   "cell_type": "code",
   "execution_count": null,
   "id": "d8f0d785d1594d22",
   "metadata": {
    "ExecuteTime": {
     "end_time": "2023-11-28T12:23:26.828932511Z",
     "start_time": "2023-11-28T12:23:26.603082283Z"
    }
   },
   "outputs": [],
   "source": [
    "data = fetch_openml(data_id=1590, parser=\"auto\")"
   ]
  },
  {
   "cell_type": "markdown",
   "id": "eeb25072d74300bf",
   "metadata": {
    "collapsed": false
   },
   "source": [
    "## Datensatz explorieren\n",
    "\n",
    "1. Welche Features enthält der Datensatz? Was repräsentiert das Label?"
   ]
  },
  {
   "cell_type": "code",
   "execution_count": null,
   "id": "26a362f934008fd8",
   "metadata": {
    "ExecuteTime": {
     "end_time": "2023-11-28T12:23:26.829549769Z",
     "start_time": "2023-11-28T12:23:26.797494416Z"
    }
   },
   "outputs": [],
   "source": []
  },
  {
   "cell_type": "markdown",
   "id": "5a9871752049c2df",
   "metadata": {
    "collapsed": false
   },
   "source": [
    "2. Erstelle eine Liste `categorical_features`, die die Namen aller kategorischen Features enthält und eine Liste `numerical_features`, die alle numerischen Features enthält.\n",
    "\n",
    "Tipp: `numerical_features` muss alle Features aus `data.feature_names` enthalten, die nicht schon in `categorical_features` enthalten sind."
   ]
  },
  {
   "cell_type": "code",
   "execution_count": null,
   "id": "5ac6a39db71bd3f5",
   "metadata": {
    "ExecuteTime": {
     "end_time": "2023-11-28T12:23:26.829699159Z",
     "start_time": "2023-11-28T12:23:26.797676352Z"
    }
   },
   "outputs": [],
   "source": []
  },
  {
   "cell_type": "code",
   "execution_count": null,
   "id": "410ea572c668f699",
   "metadata": {
    "ExecuteTime": {
     "end_time": "2023-11-28T12:23:26.829891712Z",
     "start_time": "2023-11-28T12:23:26.797789216Z"
    }
   },
   "outputs": [],
   "source": [
    "len(categorical_features) + len(numerical_features) == len(data.feature_names)"
   ]
  },
  {
   "cell_type": "markdown",
   "id": "c6cfbcc8adf32958",
   "metadata": {
    "collapsed": false
   },
   "source": [
    "3. Splitte die Daten in einen Test- und einen Trainings-Datensatz"
   ]
  },
  {
   "cell_type": "code",
   "execution_count": null,
   "id": "cbd523e02aeb11f5",
   "metadata": {
    "ExecuteTime": {
     "start_time": "2023-11-28T12:23:26.797957184Z"
    }
   },
   "outputs": [],
   "source": []
  },
  {
   "cell_type": "markdown",
   "id": "f0cad9c949b77bb4",
   "metadata": {
    "collapsed": false
   },
   "source": [
    "## Preprocessing aufbauen"
   ]
  },
  {
   "cell_type": "markdown",
   "id": "7f2a885ed82aba10",
   "metadata": {
    "collapsed": false
   },
   "source": [
    "4. Die Label müssen in ein binäres Format, also auf `0` (`<=50k`) und `1` (`>50k`), konvertiert werden. Dazu kann der `OrdinalEncoder` eingesetzt werden, um sowohl `y_train` als auch `y_test` entsprechend zu konvertieren.\n",
    "\n",
    "Erzeuge zunächst eine Liste der möglichen Werte in `y`, die mit `categories` an den `OrdinalEncoder` übergeben werden kann (Dimensionen beachten!).\n",
    "\n",
    "Tipp: Mit `y_train.values` kann auf ein Numpy-Array zugegriffen werden."
   ]
  },
  {
   "cell_type": "code",
   "execution_count": null,
   "id": "5da9cde31a28dcb9",
   "metadata": {
    "ExecuteTime": {
     "start_time": "2023-11-28T12:23:26.798053496Z"
    }
   },
   "outputs": [],
   "source": []
  },
  {
   "cell_type": "code",
   "execution_count": null,
   "id": "dcd069e7d078cb9",
   "metadata": {
    "ExecuteTime": {
     "start_time": "2023-11-28T12:23:26.798274124Z"
    }
   },
   "outputs": [],
   "source": [
    "from sklearn.preprocessing import OrdinalEncoder"
   ]
  },
  {
   "cell_type": "code",
   "execution_count": null,
   "id": "232be3ff838c0454",
   "metadata": {
    "ExecuteTime": {
     "start_time": "2023-11-28T12:23:26.798356258Z"
    }
   },
   "outputs": [],
   "source": [
    "label_encoder = OrdinalEncoder(categories=[target_values], handle_unknown=\"error\")"
   ]
  },
  {
   "cell_type": "code",
   "execution_count": null,
   "id": "423faa0dcafcc5ff",
   "metadata": {
    "ExecuteTime": {
     "start_time": "2023-11-28T12:23:26.798400467Z"
    }
   },
   "outputs": [],
   "source": []
  },
  {
   "cell_type": "markdown",
   "id": "f74b91ef6d1b2fb2",
   "metadata": {
    "collapsed": false
   },
   "source": [
    "5. Die kategorischen Features sollen One-Hot kodiert werden. Dazu kann der `OneHotEncoder` aus `sklearn.preprocessing` eingesetzt werden. Werte für die Features, die im Trainings-Set nicht vorkommen, sollen ignoriert werden.\n",
    "\n",
    "Der Encoder für die kategorischen Features soll in diesem Schritt zunächst nur definiert werden, wir werden ihn später gemeinsam mit dem numerischen Encoder und dem Modell fitten."
   ]
  },
  {
   "cell_type": "code",
   "execution_count": null,
   "id": "a6bd0995bb520726",
   "metadata": {
    "ExecuteTime": {
     "start_time": "2023-11-28T12:23:26.798442931Z"
    }
   },
   "outputs": [],
   "source": []
  },
  {
   "cell_type": "markdown",
   "id": "abcef5d8ae54ac94",
   "metadata": {
    "collapsed": false
   },
   "source": [
    "6. Für die numerischen Features müssen wir bereits eine Pipeline aufbauen, denn einige Spalten enthalten unbekannte Werte.\n",
    "\n",
    "- Überprüfe mit `x_train.isna().any()`, welche Spalten betroffen sind\n",
    "- Wähle anhand der [Dokumentation für `SimpleImputer](https://scikit-learn.org/stable/modules/generated/sklearn.impute.SimpleImputer.html) eine geeignete Strategie\n",
    "- Kombiniere `SimpleImputer` und einen `StandardScaler` in einer `Pipeline`.\n",
    "\n"
   ]
  },
  {
   "cell_type": "code",
   "execution_count": null,
   "id": "3d0e32efe73b9c1c",
   "metadata": {
    "ExecuteTime": {
     "start_time": "2023-11-28T12:23:26.798496080Z"
    }
   },
   "outputs": [],
   "source": []
  },
  {
   "cell_type": "markdown",
   "id": "a436d91a51ddba09",
   "metadata": {
    "collapsed": false
   },
   "source": [
    "6. Mit dem `ColumnTransformer` können wir die Pipelines für numerische und kategorische Features nun zusammensetzen.\n",
    "\n",
    "Fitte testweise den `preprocessor` auf dem Trainingsdatensatz und konvertiere den Testdatensatz. Vergleiche die Dimensionen von `x_test` und dem transformierten Datensatz. Was fällt dir auf?"
   ]
  },
  {
   "cell_type": "code",
   "execution_count": null,
   "id": "3df6d15ebe6973b0",
   "metadata": {
    "ExecuteTime": {
     "start_time": "2023-11-28T12:23:26.798544620Z"
    }
   },
   "outputs": [],
   "source": [
    "from sklearn.compose import ColumnTransformer"
   ]
  },
  {
   "cell_type": "code",
   "execution_count": null,
   "id": "7cd8e35210061803",
   "metadata": {
    "ExecuteTime": {
     "start_time": "2023-11-28T12:23:26.798588061Z"
    }
   },
   "outputs": [],
   "source": [
    "preprocessor = ColumnTransformer(\n",
    "    transformers=[\n",
    "        (\"num\", numeric_transformer, numerical_features),\n",
    "        (\"cat\", categorical_transformer, categorical_features),\n",
    "    ]\n",
    ")"
   ]
  },
  {
   "cell_type": "code",
   "execution_count": null,
   "id": "d87fd716f296cba3",
   "metadata": {
    "ExecuteTime": {
     "start_time": "2023-11-28T12:23:26.798619979Z"
    }
   },
   "outputs": [],
   "source": []
  },
  {
   "cell_type": "markdown",
   "id": "b4732af86cb5256a",
   "metadata": {
    "collapsed": false
   },
   "source": [
    "## Pipeline aufbauen"
   ]
  },
  {
   "cell_type": "markdown",
   "id": "38662af2da9a3306",
   "metadata": {
    "collapsed": false
   },
   "source": [
    "7. Baue eine `Pipeline` bestehend aus zwei Schritten: Dem `preprocessor` und einem `RandomForestClassifier`.\n",
    "\n",
    "Fitte diese testweise auf dem Trainings-Datensatz und evaluiere sie auf dem Test-Datensatz."
   ]
  },
  {
   "cell_type": "code",
   "execution_count": null,
   "id": "fd605df251c822a5",
   "metadata": {
    "ExecuteTime": {
     "start_time": "2023-11-28T12:23:26.798655248Z"
    }
   },
   "outputs": [],
   "source": []
  },
  {
   "cell_type": "markdown",
   "id": "ab190d85554b16ac",
   "metadata": {
    "collapsed": false
   },
   "source": [
    "## Grid Search mit Cross Validation"
   ]
  },
  {
   "cell_type": "markdown",
   "id": "8c34d3922df2d3b7",
   "metadata": {
    "collapsed": false
   },
   "source": [
    "8. Um die optimalen Parameter zu finden, setzen wir `GridSearchCV` ein, mit der Grid-Search und Cross-Validation kombiniert werden.\n",
    "\n",
    "Lege einen sinnvollen Parameter-Raum fest und führe einen Fit der kompletten Modell-Pipeline durch.\n",
    "\n",
    "Was ist die beste Parameter-Kombination? Lässt sich noch eine bessere Kombination finden?\n",
    "\n",
    "Tipp: Es ist in aller Regel hilfreich, den Einfluss einzelner Parameter zumindest qualitativ zu untersuchen."
   ]
  },
  {
   "cell_type": "code",
   "execution_count": null,
   "id": "58b8b6079329c6e8",
   "metadata": {
    "ExecuteTime": {
     "start_time": "2023-11-28T12:23:26.798713496Z"
    }
   },
   "outputs": [],
   "source": []
  }
 ],
 "metadata": {
  "kernelspec": {
   "display_name": "Python 3",
   "language": "python",
   "name": "python3"
  },
  "language_info": {
   "codemirror_mode": {
    "name": "ipython",
    "version": 2
   },
   "file_extension": ".py",
   "mimetype": "text/x-python",
   "name": "python",
   "nbconvert_exporter": "python",
   "pygments_lexer": "ipython2",
   "version": "2.7.6"
  }
 },
 "nbformat": 4,
 "nbformat_minor": 5
}
